{
 "cells": [
  {
   "cell_type": "code",
   "execution_count": 7,
   "metadata": {},
   "outputs": [
    {
     "data": {
      "text/plain": [
       "True"
      ]
     },
     "execution_count": 7,
     "metadata": {},
     "output_type": "execute_result"
    }
   ],
   "source": [
    "import os\n",
    "from dotenv import load_dotenv\n",
    "load_dotenv()"
   ]
  },
  {
   "cell_type": "code",
   "execution_count": 8,
   "metadata": {},
   "outputs": [],
   "source": [
    "os.environ[\"OPENAI_API_KEY\"] = os.getenv(\"OPENAI_API_KEY\")\n",
    "os.environ[\"LANGCHAIN_API_KEY\"] = os.getenv(\"LANGCHAIN_API_KEY\")\n",
    "os.environ[\"LANGCHAIN_TRACING_V2\"] = \"true\"\n",
    "os.environ[\"LANGCHAIN_PROJECT_NAME\"] = os.getenv(\"LANGCHAIN_PROJECT_NAME\")"
   ]
  },
  {
   "cell_type": "code",
   "execution_count": 9,
   "metadata": {},
   "outputs": [
    {
     "name": "stderr",
     "output_type": "stream",
     "text": [
      "USER_AGENT environment variable not set, consider setting it to identify your requests.\n"
     ]
    }
   ],
   "source": [
    "from langchain_community.document_loaders import WebBaseLoader\n",
    "loader = WebBaseLoader(\"https://medium.com/@kevinnokiawriting/my-ultimate-2025-blueprint-step-by-step-plan-for-achieving-success-695cc2b2bde9\")"
   ]
  },
  {
   "cell_type": "code",
   "execution_count": 10,
   "metadata": {},
   "outputs": [
    {
     "data": {
      "text/plain": [
       "[Document(metadata={'source': 'https://medium.com/@kevinnokiawriting/my-ultimate-2025-blueprint-step-by-step-plan-for-achieving-success-695cc2b2bde9', 'title': 'My Ultimate 2025 Blueprint: Step-by-Step Plan for Achieving Success | by Kevin Nokia | Dec, 2024 | Medium', 'description': 'And it feels quick too, like I didn’t realize that I almost touched 2025 in 3 days (the day I write this article). My 2024 wasn’t my best, but I struggled a lot. I struggle with eliminating my bad…', 'language': 'en'}, page_content=\"My Ultimate 2025 Blueprint: Step-by-Step Plan for Achieving Success | by Kevin Nokia | Dec, 2024 | MediumOpen in appSign upSign inWriteSign upSign inMy Ultimate 2025 Blueprint: Step-by-Step Plan for Achieving SuccessSteal it, use it, adjust it, and implement it if you want.Kevin Nokia·Follow6 min read·Dec 30, 2024--19ListenSharePhoto by Kelly Sikkema on UnsplashI’ve learned a lot in 2024.And it feels quick too, like I didn’t realize that I almost touched 2025 in 3 days (the day I write this article). My 2024 wasn’t my best, but I struggled a lot. I struggle with eliminating my bad habits and building good habits, and I procrastinate a lot.Like a lot of procrastination.Do you want to know what my goals are in 2024 at the beginning?It was eliminating all my bad habits, building a writing system all day, and reading a book every week. Well, it doesn’t turn out pretty well.But a journey is still a journey.Progress is still progress.And I learn a big lesson that I will bring in 2025:“Every failure is a step closer to success. Relapse is not a reset to zero. It’s just another step for success.”And to make the best of my 2025, I need a plan. A strategic plan that can eliminate distractions, bring focus, and improve myself effectively. Without a roadmap, I will be drowned with distractions.So, here’s my ultimate plan for 2025.I adjust it based on gradual progression, goal setting, and effectiveness in success. No cold turkey. No monk mode. Only a joyful journey along the way.I’m not asking you to follow this exactly and strictly.I really hope that you can adjust it as best you can.Erase something you don’t likeFollow something you think is right.Change something you might need to be replaced.Let’s make this 2025 another best year of our lives.Step 1: Write down 10 goals.Just write 10 big goals that you really want to achieve.Oh, and don’t write it like this:“I want to become rich.”Be specific.For example:“I want to have an income of $10,000/month through writing.”Now write another goal until you reach 10 lists. If you only get 5 or less, it’s fine. At least you have some. And it doesn’t have to be 10 goals.You can write down more than 10 goals.Then from that, circle 1 goal that you think is the key goal.Key goals are goals that will tremendously change your life. It’s like the biggest stepping stone or might be the deepest root that is holding you back from improving. So, the goal is to work on that.You can write that one goal on another piece of paper or on a blank space.Step 2: Plan how you’re going to achieve thatNow, how are you going to achieve that goal?My goal is building a writing system that will help me be consistent and disciplined in my writing. There are a lot of ways to achieve that goal. I can set up a schedule, make a habit tracker, find an accountability partner, and many more.Now, you can list down as many as you can to achieve that goal.For example:I want to achieve $10,000/month.How I’m going to achieve that is by working on my business for 12 hours a day on client work, outreach, building a personal brand, and selling products or courses.You eventually need to make it specific and more detailed than that. This will help you to know what the step to start on achieving that goal is. The more specific you are, the easier it is for you to stick with it.After that, let’s make it clear.Step 3: Start smallYou know me.I’m a big fan of starting small.From the ‘how’ list you have, pick the easiest step to start. For me, it was making a schedule. It’s pretty easy to make a schedule because I only write down time and activities adjusted based on my environment.From there, you can start doing the next step and the next step until you achieve the end goal.Step 4: Tackle one by one until you achieve all your goals.After you tackle it one by one, it will be much easier for you to tackle the next goal.I don’t recommend doing all goals at once. I recommend that you start focusing on one step, which is one goal at a time and one small step toward that goal. If you haven’t finished the first goal yet, try to finish it.But still, if you are someone who likes to wait and change steps, it’s up to you.Make the days count.Every day, make progress toward that specific goal.Step 5: Don’t get distracted.There will be many distractions out there.You need to be ready.After you know what to do after writing the first small step, you can start writing it down or at least be aware of distractions on the road. This helped you to be prepared and avoid the distraction easily.My distraction in building a writing system is waking up late.If I set the writing system schedule at 8 am in the morning, it would be pretty hard for me to start the writing system at 9 am if I woke up late. So, my restriction is always waking up before 8 am and being ready for that particular time.Shiny things also need to be avoided.I sometimes get distracted by dropshipping, SMMA, and many other online businesses out there. That’s why I remind myself of the goal I aim for so that I don’t get distracted. All of those businesses are great, but it’s much greater to focus on one thing at a time.It teaches you persistence in not giving up on one thing.ConclusionThis is my ultimate plan to make 2025 another best year of my life.A plan is just a plan. It’s useless without implementation. It’s a waste if I give up.So things you can learn are not giving up. Even if the road seems pretty rocky and hurts to step on, keep going. Be consistent and focus on doing the ‘how’ until you achieve your goals.If you can start today, start.Don’t wait until 2025.The best plan is actually starting.Let Me Help YouI am a professional ghostwriter specializing in creating compelling articles, stories, and SEO-optimized content that not only resonates with audiences but also drives results. If you’re looking for high-quality writing that can go viral and boost your brand or personal presence, I’d love to collaborate with you.Feel free to reach out to me directly:📩 Email: kevinokiazefanya20@gmail.com💼 LinkedIn: Click HereNew Substack! ✨I’ve been working on making my articles more structured and exclusive, and I found the perfect platform in Substack.I’m excited to share two new newsletters with you:Kevin Nokia Writing: My personal journey from struggling through depression to becoming a successful individual.I Am Literate: Discover how to replace scrolling addiction with effective reading habits to improve focus and attention span.Join now for exclusive articles and a growing community!Essential Resources for Your Journey 📚The Mastery of Reading (Paid) | Download hereA Step-by-step Guide to Mastering Your Reading Habit from 0 to 100The Habit of Reading (Free) | Download hereA Step-by-step Guide to Building Your Reading Habit from 0 to 130-day Simple Habit Tracker (Free) | Download HereTrack Your Daily Habits with Customizable MonthsLife-changing Blueprint (Free) | Download HereHow to Change Your Life with Implementation GuideMy Booknotes (Free) | Download hereUnderstand What You Read with Implementation Guide2025ResolutionsGoalsSelf ImprovementProductivity----19FollowWritten by Kevin Nokia66K Followers·446 FollowingTop Writer on Medium | Founder of 'I Am Literate' | Helping life coaches craft personalized stories, articles, and email courses to grow their personal brand.FollowResponses (19)See all responsesHelpStatusAboutCareersPressBlogPrivacyTermsText to speechTeams\\n\\n\\n\\n\\n\\n\\n\\n\\n\\n\\n\\n\\n\\n\\n\\n\\n\\n\\n\\n\\n\\n\\n\\n\\n\\n\\n\\n\\n\\n\\n\")]"
      ]
     },
     "execution_count": 10,
     "metadata": {},
     "output_type": "execute_result"
    }
   ],
   "source": [
    "docs = loader.load()\n",
    "docs"
   ]
  },
  {
   "cell_type": "code",
   "execution_count": 11,
   "metadata": {},
   "outputs": [],
   "source": [
    "from langchain_text_splitters import RecursiveCharacterTextSplitter\n",
    "splitter = RecursiveCharacterTextSplitter(chunk_size=1000,chunk_overlap=100)"
   ]
  },
  {
   "cell_type": "code",
   "execution_count": 12,
   "metadata": {},
   "outputs": [
    {
     "data": {
      "text/plain": [
       "[Document(metadata={'source': 'https://medium.com/@kevinnokiawriting/my-ultimate-2025-blueprint-step-by-step-plan-for-achieving-success-695cc2b2bde9', 'title': 'My Ultimate 2025 Blueprint: Step-by-Step Plan for Achieving Success | by Kevin Nokia | Dec, 2024 | Medium', 'description': 'And it feels quick too, like I didn’t realize that I almost touched 2025 in 3 days (the day I write this article). My 2024 wasn’t my best, but I struggled a lot. I struggle with eliminating my bad…', 'language': 'en'}, page_content='My Ultimate 2025 Blueprint: Step-by-Step Plan for Achieving Success | by Kevin Nokia | Dec, 2024 | MediumOpen in appSign upSign inWriteSign upSign inMy Ultimate 2025 Blueprint: Step-by-Step Plan for Achieving SuccessSteal it, use it, adjust it, and implement it if you want.Kevin Nokia·Follow6 min read·Dec 30, 2024--19ListenSharePhoto by Kelly Sikkema on UnsplashI’ve learned a lot in 2024.And it feels quick too, like I didn’t realize that I almost touched 2025 in 3 days (the day I write this article). My 2024 wasn’t my best, but I struggled a lot. I struggle with eliminating my bad habits and building good habits, and I procrastinate a lot.Like a lot of procrastination.Do you want to know what my goals are in 2024 at the beginning?It was eliminating all my bad habits, building a writing system all day, and reading a book every week. Well, it doesn’t turn out pretty well.But a journey is still a journey.Progress is still progress.And I learn a big lesson that I will bring in 2025:“Every'),\n",
       " Document(metadata={'source': 'https://medium.com/@kevinnokiawriting/my-ultimate-2025-blueprint-step-by-step-plan-for-achieving-success-695cc2b2bde9', 'title': 'My Ultimate 2025 Blueprint: Step-by-Step Plan for Achieving Success | by Kevin Nokia | Dec, 2024 | Medium', 'description': 'And it feels quick too, like I didn’t realize that I almost touched 2025 in 3 days (the day I write this article). My 2024 wasn’t my best, but I struggled a lot. I struggle with eliminating my bad…', 'language': 'en'}, page_content='a journey.Progress is still progress.And I learn a big lesson that I will bring in 2025:“Every failure is a step closer to success. Relapse is not a reset to zero. It’s just another step for success.”And to make the best of my 2025, I need a plan. A strategic plan that can eliminate distractions, bring focus, and improve myself effectively. Without a roadmap, I will be drowned with distractions.So, here’s my ultimate plan for 2025.I adjust it based on gradual progression, goal setting, and effectiveness in success. No cold turkey. No monk mode. Only a joyful journey along the way.I’m not asking you to follow this exactly and strictly.I really hope that you can adjust it as best you can.Erase something you don’t likeFollow something you think is right.Change something you might need to be replaced.Let’s make this 2025 another best year of our lives.Step 1: Write down 10 goals.Just write 10 big goals that you really want to achieve.Oh, and don’t write it like this:“I want to become'),\n",
       " Document(metadata={'source': 'https://medium.com/@kevinnokiawriting/my-ultimate-2025-blueprint-step-by-step-plan-for-achieving-success-695cc2b2bde9', 'title': 'My Ultimate 2025 Blueprint: Step-by-Step Plan for Achieving Success | by Kevin Nokia | Dec, 2024 | Medium', 'description': 'And it feels quick too, like I didn’t realize that I almost touched 2025 in 3 days (the day I write this article). My 2024 wasn’t my best, but I struggled a lot. I struggle with eliminating my bad…', 'language': 'en'}, page_content='10 big goals that you really want to achieve.Oh, and don’t write it like this:“I want to become rich.”Be specific.For example:“I want to have an income of $10,000/month through writing.”Now write another goal until you reach 10 lists. If you only get 5 or less, it’s fine. At least you have some. And it doesn’t have to be 10 goals.You can write down more than 10 goals.Then from that, circle 1 goal that you think is the key goal.Key goals are goals that will tremendously change your life. It’s like the biggest stepping stone or might be the deepest root that is holding you back from improving. So, the goal is to work on that.You can write that one goal on another piece of paper or on a blank space.Step 2: Plan how you’re going to achieve thatNow, how are you going to achieve that goal?My goal is building a writing system that will help me be consistent and disciplined in my writing. There are a lot of ways to achieve that goal. I can set up a schedule, make a habit tracker, find an'),\n",
       " Document(metadata={'source': 'https://medium.com/@kevinnokiawriting/my-ultimate-2025-blueprint-step-by-step-plan-for-achieving-success-695cc2b2bde9', 'title': 'My Ultimate 2025 Blueprint: Step-by-Step Plan for Achieving Success | by Kevin Nokia | Dec, 2024 | Medium', 'description': 'And it feels quick too, like I didn’t realize that I almost touched 2025 in 3 days (the day I write this article). My 2024 wasn’t my best, but I struggled a lot. I struggle with eliminating my bad…', 'language': 'en'}, page_content='are a lot of ways to achieve that goal. I can set up a schedule, make a habit tracker, find an accountability partner, and many more.Now, you can list down as many as you can to achieve that goal.For example:I want to achieve $10,000/month.How I’m going to achieve that is by working on my business for 12 hours a day on client work, outreach, building a personal brand, and selling products or courses.You eventually need to make it specific and more detailed than that. This will help you to know what the step to start on achieving that goal is. The more specific you are, the easier it is for you to stick with it.After that, let’s make it clear.Step 3: Start smallYou know me.I’m a big fan of starting small.From the ‘how’ list you have, pick the easiest step to start. For me, it was making a schedule. It’s pretty easy to make a schedule because I only write down time and activities adjusted based on my environment.From there, you can start doing the next step and the next step until you'),\n",
       " Document(metadata={'source': 'https://medium.com/@kevinnokiawriting/my-ultimate-2025-blueprint-step-by-step-plan-for-achieving-success-695cc2b2bde9', 'title': 'My Ultimate 2025 Blueprint: Step-by-Step Plan for Achieving Success | by Kevin Nokia | Dec, 2024 | Medium', 'description': 'And it feels quick too, like I didn’t realize that I almost touched 2025 in 3 days (the day I write this article). My 2024 wasn’t my best, but I struggled a lot. I struggle with eliminating my bad…', 'language': 'en'}, page_content='based on my environment.From there, you can start doing the next step and the next step until you achieve the end goal.Step 4: Tackle one by one until you achieve all your goals.After you tackle it one by one, it will be much easier for you to tackle the next goal.I don’t recommend doing all goals at once. I recommend that you start focusing on one step, which is one goal at a time and one small step toward that goal. If you haven’t finished the first goal yet, try to finish it.But still, if you are someone who likes to wait and change steps, it’s up to you.Make the days count.Every day, make progress toward that specific goal.Step 5: Don’t get distracted.There will be many distractions out there.You need to be ready.After you know what to do after writing the first small step, you can start writing it down or at least be aware of distractions on the road. This helped you to be prepared and avoid the distraction easily.My distraction in building a writing system is waking up late.If I'),\n",
       " Document(metadata={'source': 'https://medium.com/@kevinnokiawriting/my-ultimate-2025-blueprint-step-by-step-plan-for-achieving-success-695cc2b2bde9', 'title': 'My Ultimate 2025 Blueprint: Step-by-Step Plan for Achieving Success | by Kevin Nokia | Dec, 2024 | Medium', 'description': 'And it feels quick too, like I didn’t realize that I almost touched 2025 in 3 days (the day I write this article). My 2024 wasn’t my best, but I struggled a lot. I struggle with eliminating my bad…', 'language': 'en'}, page_content='and avoid the distraction easily.My distraction in building a writing system is waking up late.If I set the writing system schedule at 8 am in the morning, it would be pretty hard for me to start the writing system at 9 am if I woke up late. So, my restriction is always waking up before 8 am and being ready for that particular time.Shiny things also need to be avoided.I sometimes get distracted by dropshipping, SMMA, and many other online businesses out there. That’s why I remind myself of the goal I aim for so that I don’t get distracted. All of those businesses are great, but it’s much greater to focus on one thing at a time.It teaches you persistence in not giving up on one thing.ConclusionThis is my ultimate plan to make 2025 another best year of my life.A plan is just a plan. It’s useless without implementation. It’s a waste if I give up.So things you can learn are not giving up. Even if the road seems pretty rocky and hurts to step on, keep going. Be consistent and focus on'),\n",
       " Document(metadata={'source': 'https://medium.com/@kevinnokiawriting/my-ultimate-2025-blueprint-step-by-step-plan-for-achieving-success-695cc2b2bde9', 'title': 'My Ultimate 2025 Blueprint: Step-by-Step Plan for Achieving Success | by Kevin Nokia | Dec, 2024 | Medium', 'description': 'And it feels quick too, like I didn’t realize that I almost touched 2025 in 3 days (the day I write this article). My 2024 wasn’t my best, but I struggled a lot. I struggle with eliminating my bad…', 'language': 'en'}, page_content='Even if the road seems pretty rocky and hurts to step on, keep going. Be consistent and focus on doing the ‘how’ until you achieve your goals.If you can start today, start.Don’t wait until 2025.The best plan is actually starting.Let Me Help YouI am a professional ghostwriter specializing in creating compelling articles, stories, and SEO-optimized content that not only resonates with audiences but also drives results. If you’re looking for high-quality writing that can go viral and boost your brand or personal presence, I’d love to collaborate with you.Feel free to reach out to me directly:📩 Email: kevinokiazefanya20@gmail.com💼 LinkedIn: Click HereNew Substack! ✨I’ve been working on making my articles more structured and exclusive, and I found the perfect platform in Substack.I’m excited to share two new newsletters with you:Kevin Nokia Writing: My personal journey from struggling through depression to becoming a successful individual.I Am Literate: Discover how to replace scrolling'),\n",
       " Document(metadata={'source': 'https://medium.com/@kevinnokiawriting/my-ultimate-2025-blueprint-step-by-step-plan-for-achieving-success-695cc2b2bde9', 'title': 'My Ultimate 2025 Blueprint: Step-by-Step Plan for Achieving Success | by Kevin Nokia | Dec, 2024 | Medium', 'description': 'And it feels quick too, like I didn’t realize that I almost touched 2025 in 3 days (the day I write this article). My 2024 wasn’t my best, but I struggled a lot. I struggle with eliminating my bad…', 'language': 'en'}, page_content=\"depression to becoming a successful individual.I Am Literate: Discover how to replace scrolling addiction with effective reading habits to improve focus and attention span.Join now for exclusive articles and a growing community!Essential Resources for Your Journey 📚The Mastery of Reading (Paid) | Download hereA Step-by-step Guide to Mastering Your Reading Habit from 0 to 100The Habit of Reading (Free) | Download hereA Step-by-step Guide to Building Your Reading Habit from 0 to 130-day Simple Habit Tracker (Free) | Download HereTrack Your Daily Habits with Customizable MonthsLife-changing Blueprint (Free) | Download HereHow to Change Your Life with Implementation GuideMy Booknotes (Free) | Download hereUnderstand What You Read with Implementation Guide2025ResolutionsGoalsSelf ImprovementProductivity----19FollowWritten by Kevin Nokia66K Followers·446 FollowingTop Writer on Medium | Founder of 'I Am Literate' | Helping life coaches craft personalized stories, articles, and email courses\"),\n",
       " Document(metadata={'source': 'https://medium.com/@kevinnokiawriting/my-ultimate-2025-blueprint-step-by-step-plan-for-achieving-success-695cc2b2bde9', 'title': 'My Ultimate 2025 Blueprint: Step-by-Step Plan for Achieving Success | by Kevin Nokia | Dec, 2024 | Medium', 'description': 'And it feels quick too, like I didn’t realize that I almost touched 2025 in 3 days (the day I write this article). My 2024 wasn’t my best, but I struggled a lot. I struggle with eliminating my bad…', 'language': 'en'}, page_content=\"of 'I Am Literate' | Helping life coaches craft personalized stories, articles, and email courses to grow their personal brand.FollowResponses (19)See all responsesHelpStatusAboutCareersPressBlogPrivacyTermsText to speechTeams\")]"
      ]
     },
     "execution_count": 12,
     "metadata": {},
     "output_type": "execute_result"
    }
   ],
   "source": [
    "splitted_docs = splitter.split_documents(docs)\n",
    "splitted_docs"
   ]
  },
  {
   "cell_type": "code",
   "execution_count": 13,
   "metadata": {},
   "outputs": [],
   "source": [
    "from langchain_community.vectorstores import FAISS\n",
    "from langchain_openai import OpenAIEmbeddings\n",
    "embedder = OpenAIEmbeddings()"
   ]
  },
  {
   "cell_type": "code",
   "execution_count": 14,
   "metadata": {},
   "outputs": [],
   "source": [
    "db = FAISS.from_documents(splitted_docs, embedder)"
   ]
  },
  {
   "cell_type": "code",
   "execution_count": 15,
   "metadata": {},
   "outputs": [
    {
     "data": {
      "text/plain": [
       "<langchain_community.vectorstores.faiss.FAISS at 0x245d768d250>"
      ]
     },
     "execution_count": 15,
     "metadata": {},
     "output_type": "execute_result"
    }
   ],
   "source": [
    "db"
   ]
  },
  {
   "cell_type": "code",
   "execution_count": 16,
   "metadata": {},
   "outputs": [],
   "source": [
    "query = \"And it feels quick too, like I didn’t realize that I almost touched 2025 in 3 days (the day I write this article).\"\n",
    "retrieved_docs = db.similarity_search(query)"
   ]
  },
  {
   "cell_type": "code",
   "execution_count": 17,
   "metadata": {},
   "outputs": [
    {
     "data": {
      "text/plain": [
       "[Document(id='596dff5f-3ef3-483a-852a-70fa36a161c4', metadata={'source': 'https://medium.com/@kevinnokiawriting/my-ultimate-2025-blueprint-step-by-step-plan-for-achieving-success-695cc2b2bde9', 'title': 'My Ultimate 2025 Blueprint: Step-by-Step Plan for Achieving Success | by Kevin Nokia | Dec, 2024 | Medium', 'description': 'And it feels quick too, like I didn’t realize that I almost touched 2025 in 3 days (the day I write this article). My 2024 wasn’t my best, but I struggled a lot. I struggle with eliminating my bad…', 'language': 'en'}, page_content='My Ultimate 2025 Blueprint: Step-by-Step Plan for Achieving Success | by Kevin Nokia | Dec, 2024 | MediumOpen in appSign upSign inWriteSign upSign inMy Ultimate 2025 Blueprint: Step-by-Step Plan for Achieving SuccessSteal it, use it, adjust it, and implement it if you want.Kevin Nokia·Follow6 min read·Dec 30, 2024--19ListenSharePhoto by Kelly Sikkema on UnsplashI’ve learned a lot in 2024.And it feels quick too, like I didn’t realize that I almost touched 2025 in 3 days (the day I write this article). My 2024 wasn’t my best, but I struggled a lot. I struggle with eliminating my bad habits and building good habits, and I procrastinate a lot.Like a lot of procrastination.Do you want to know what my goals are in 2024 at the beginning?It was eliminating all my bad habits, building a writing system all day, and reading a book every week. Well, it doesn’t turn out pretty well.But a journey is still a journey.Progress is still progress.And I learn a big lesson that I will bring in 2025:“Every'),\n",
       " Document(id='9576184a-89ef-4dc4-a597-dd9bc653592e', metadata={'source': 'https://medium.com/@kevinnokiawriting/my-ultimate-2025-blueprint-step-by-step-plan-for-achieving-success-695cc2b2bde9', 'title': 'My Ultimate 2025 Blueprint: Step-by-Step Plan for Achieving Success | by Kevin Nokia | Dec, 2024 | Medium', 'description': 'And it feels quick too, like I didn’t realize that I almost touched 2025 in 3 days (the day I write this article). My 2024 wasn’t my best, but I struggled a lot. I struggle with eliminating my bad…', 'language': 'en'}, page_content='Even if the road seems pretty rocky and hurts to step on, keep going. Be consistent and focus on doing the ‘how’ until you achieve your goals.If you can start today, start.Don’t wait until 2025.The best plan is actually starting.Let Me Help YouI am a professional ghostwriter specializing in creating compelling articles, stories, and SEO-optimized content that not only resonates with audiences but also drives results. If you’re looking for high-quality writing that can go viral and boost your brand or personal presence, I’d love to collaborate with you.Feel free to reach out to me directly:📩 Email: kevinokiazefanya20@gmail.com💼 LinkedIn: Click HereNew Substack! ✨I’ve been working on making my articles more structured and exclusive, and I found the perfect platform in Substack.I’m excited to share two new newsletters with you:Kevin Nokia Writing: My personal journey from struggling through depression to becoming a successful individual.I Am Literate: Discover how to replace scrolling'),\n",
       " Document(id='87c51442-57b1-4ed5-a178-8926fca74cfa', metadata={'source': 'https://medium.com/@kevinnokiawriting/my-ultimate-2025-blueprint-step-by-step-plan-for-achieving-success-695cc2b2bde9', 'title': 'My Ultimate 2025 Blueprint: Step-by-Step Plan for Achieving Success | by Kevin Nokia | Dec, 2024 | Medium', 'description': 'And it feels quick too, like I didn’t realize that I almost touched 2025 in 3 days (the day I write this article). My 2024 wasn’t my best, but I struggled a lot. I struggle with eliminating my bad…', 'language': 'en'}, page_content='based on my environment.From there, you can start doing the next step and the next step until you achieve the end goal.Step 4: Tackle one by one until you achieve all your goals.After you tackle it one by one, it will be much easier for you to tackle the next goal.I don’t recommend doing all goals at once. I recommend that you start focusing on one step, which is one goal at a time and one small step toward that goal. If you haven’t finished the first goal yet, try to finish it.But still, if you are someone who likes to wait and change steps, it’s up to you.Make the days count.Every day, make progress toward that specific goal.Step 5: Don’t get distracted.There will be many distractions out there.You need to be ready.After you know what to do after writing the first small step, you can start writing it down or at least be aware of distractions on the road. This helped you to be prepared and avoid the distraction easily.My distraction in building a writing system is waking up late.If I'),\n",
       " Document(id='558365ef-f1fb-4dd9-923a-4bce79f732d9', metadata={'source': 'https://medium.com/@kevinnokiawriting/my-ultimate-2025-blueprint-step-by-step-plan-for-achieving-success-695cc2b2bde9', 'title': 'My Ultimate 2025 Blueprint: Step-by-Step Plan for Achieving Success | by Kevin Nokia | Dec, 2024 | Medium', 'description': 'And it feels quick too, like I didn’t realize that I almost touched 2025 in 3 days (the day I write this article). My 2024 wasn’t my best, but I struggled a lot. I struggle with eliminating my bad…', 'language': 'en'}, page_content='and avoid the distraction easily.My distraction in building a writing system is waking up late.If I set the writing system schedule at 8 am in the morning, it would be pretty hard for me to start the writing system at 9 am if I woke up late. So, my restriction is always waking up before 8 am and being ready for that particular time.Shiny things also need to be avoided.I sometimes get distracted by dropshipping, SMMA, and many other online businesses out there. That’s why I remind myself of the goal I aim for so that I don’t get distracted. All of those businesses are great, but it’s much greater to focus on one thing at a time.It teaches you persistence in not giving up on one thing.ConclusionThis is my ultimate plan to make 2025 another best year of my life.A plan is just a plan. It’s useless without implementation. It’s a waste if I give up.So things you can learn are not giving up. Even if the road seems pretty rocky and hurts to step on, keep going. Be consistent and focus on')]"
      ]
     },
     "execution_count": 17,
     "metadata": {},
     "output_type": "execute_result"
    }
   ],
   "source": [
    "retrieved_docs"
   ]
  },
  {
   "cell_type": "code",
   "execution_count": 18,
   "metadata": {},
   "outputs": [],
   "source": [
    "from langchain_core.prompts import ChatPromptTemplate\n",
    "prompt = ChatPromptTemplate.from_template(\n",
    "    \"\"\"\n",
    "Answerthe following question based on give context\n",
    "<context>\n",
    "{context}\n",
    "</context>\n",
    "\"\"\"\n",
    ")"
   ]
  },
  {
   "cell_type": "code",
   "execution_count": 19,
   "metadata": {},
   "outputs": [],
   "source": [
    "from langchain_openai import ChatOpenAI\n",
    "llm = ChatOpenAI(model=\"gpt-4o\")"
   ]
  },
  {
   "cell_type": "code",
   "execution_count": 20,
   "metadata": {},
   "outputs": [],
   "source": [
    "from langchain.chains.combine_documents import create_stuff_documents_chain\n",
    "document_chain = create_stuff_documents_chain(llm,prompt)"
   ]
  },
  {
   "cell_type": "code",
   "execution_count": 22,
   "metadata": {},
   "outputs": [],
   "source": [
    "retriever = db.as_retriever()\n",
    "from langchain.chains import create_retrieval_chain\n",
    "retrievel_chain = create_retrieval_chain(retriever,document_chain)"
   ]
  },
  {
   "cell_type": "code",
   "execution_count": 23,
   "metadata": {},
   "outputs": [
    {
     "data": {
      "text/plain": [
       "RunnableBinding(bound=RunnableAssign(mapper={\n",
       "  context: RunnableBinding(bound=RunnableLambda(lambda x: x['input'])\n",
       "           | VectorStoreRetriever(tags=['FAISS', 'OpenAIEmbeddings'], vectorstore=<langchain_community.vectorstores.faiss.FAISS object at 0x00000245D768D250>, search_kwargs={}), kwargs={}, config={'run_name': 'retrieve_documents'}, config_factories=[])\n",
       "})\n",
       "| RunnableAssign(mapper={\n",
       "    answer: RunnableBinding(bound=RunnableBinding(bound=RunnableAssign(mapper={\n",
       "              context: RunnableLambda(format_docs)\n",
       "            }), kwargs={}, config={'run_name': 'format_inputs'}, config_factories=[])\n",
       "            | ChatPromptTemplate(input_variables=['context'], input_types={}, partial_variables={}, messages=[HumanMessagePromptTemplate(prompt=PromptTemplate(input_variables=['context'], input_types={}, partial_variables={}, template='\\nAnswerthe following question based on give context\\n<context>\\n{context}\\n</context>\\n'), additional_kwargs={})])\n",
       "            | ChatOpenAI(client=<openai.resources.chat.completions.Completions object at 0x00000245D9E55A50>, async_client=<openai.resources.chat.completions.AsyncCompletions object at 0x00000245D9167650>, root_client=<openai.OpenAI object at 0x00000245D752CE50>, root_async_client=<openai.AsyncOpenAI object at 0x00000245D95F7050>, model_name='gpt-4o', model_kwargs={}, openai_api_key=SecretStr('**********'))\n",
       "            | StrOutputParser(), kwargs={}, config={'run_name': 'stuff_documents_chain'}, config_factories=[])\n",
       "  }), kwargs={}, config={'run_name': 'retrieval_chain'}, config_factories=[])"
      ]
     },
     "execution_count": 23,
     "metadata": {},
     "output_type": "execute_result"
    }
   ],
   "source": [
    "retrievel_chain"
   ]
  },
  {
   "cell_type": "code",
   "execution_count": 24,
   "metadata": {},
   "outputs": [],
   "source": [
    "response = retrievel_chain.invoke({\"input\":\"And it feels quick too, like I didn’t realize that I almost touched 2025 in 3 days (the day I write this article).\"})"
   ]
  },
  {
   "cell_type": "code",
   "execution_count": 25,
   "metadata": {},
   "outputs": [
    {
     "data": {
      "text/plain": [
       "{'input': 'And it feels quick too, like I didn’t realize that I almost touched 2025 in 3 days (the day I write this article).',\n",
       " 'context': [Document(id='596dff5f-3ef3-483a-852a-70fa36a161c4', metadata={'source': 'https://medium.com/@kevinnokiawriting/my-ultimate-2025-blueprint-step-by-step-plan-for-achieving-success-695cc2b2bde9', 'title': 'My Ultimate 2025 Blueprint: Step-by-Step Plan for Achieving Success | by Kevin Nokia | Dec, 2024 | Medium', 'description': 'And it feels quick too, like I didn’t realize that I almost touched 2025 in 3 days (the day I write this article). My 2024 wasn’t my best, but I struggled a lot. I struggle with eliminating my bad…', 'language': 'en'}, page_content='My Ultimate 2025 Blueprint: Step-by-Step Plan for Achieving Success | by Kevin Nokia | Dec, 2024 | MediumOpen in appSign upSign inWriteSign upSign inMy Ultimate 2025 Blueprint: Step-by-Step Plan for Achieving SuccessSteal it, use it, adjust it, and implement it if you want.Kevin Nokia·Follow6 min read·Dec 30, 2024--19ListenSharePhoto by Kelly Sikkema on UnsplashI’ve learned a lot in 2024.And it feels quick too, like I didn’t realize that I almost touched 2025 in 3 days (the day I write this article). My 2024 wasn’t my best, but I struggled a lot. I struggle with eliminating my bad habits and building good habits, and I procrastinate a lot.Like a lot of procrastination.Do you want to know what my goals are in 2024 at the beginning?It was eliminating all my bad habits, building a writing system all day, and reading a book every week. Well, it doesn’t turn out pretty well.But a journey is still a journey.Progress is still progress.And I learn a big lesson that I will bring in 2025:“Every'),\n",
       "  Document(id='9576184a-89ef-4dc4-a597-dd9bc653592e', metadata={'source': 'https://medium.com/@kevinnokiawriting/my-ultimate-2025-blueprint-step-by-step-plan-for-achieving-success-695cc2b2bde9', 'title': 'My Ultimate 2025 Blueprint: Step-by-Step Plan for Achieving Success | by Kevin Nokia | Dec, 2024 | Medium', 'description': 'And it feels quick too, like I didn’t realize that I almost touched 2025 in 3 days (the day I write this article). My 2024 wasn’t my best, but I struggled a lot. I struggle with eliminating my bad…', 'language': 'en'}, page_content='Even if the road seems pretty rocky and hurts to step on, keep going. Be consistent and focus on doing the ‘how’ until you achieve your goals.If you can start today, start.Don’t wait until 2025.The best plan is actually starting.Let Me Help YouI am a professional ghostwriter specializing in creating compelling articles, stories, and SEO-optimized content that not only resonates with audiences but also drives results. If you’re looking for high-quality writing that can go viral and boost your brand or personal presence, I’d love to collaborate with you.Feel free to reach out to me directly:📩 Email: kevinokiazefanya20@gmail.com💼 LinkedIn: Click HereNew Substack! ✨I’ve been working on making my articles more structured and exclusive, and I found the perfect platform in Substack.I’m excited to share two new newsletters with you:Kevin Nokia Writing: My personal journey from struggling through depression to becoming a successful individual.I Am Literate: Discover how to replace scrolling'),\n",
       "  Document(id='87c51442-57b1-4ed5-a178-8926fca74cfa', metadata={'source': 'https://medium.com/@kevinnokiawriting/my-ultimate-2025-blueprint-step-by-step-plan-for-achieving-success-695cc2b2bde9', 'title': 'My Ultimate 2025 Blueprint: Step-by-Step Plan for Achieving Success | by Kevin Nokia | Dec, 2024 | Medium', 'description': 'And it feels quick too, like I didn’t realize that I almost touched 2025 in 3 days (the day I write this article). My 2024 wasn’t my best, but I struggled a lot. I struggle with eliminating my bad…', 'language': 'en'}, page_content='based on my environment.From there, you can start doing the next step and the next step until you achieve the end goal.Step 4: Tackle one by one until you achieve all your goals.After you tackle it one by one, it will be much easier for you to tackle the next goal.I don’t recommend doing all goals at once. I recommend that you start focusing on one step, which is one goal at a time and one small step toward that goal. If you haven’t finished the first goal yet, try to finish it.But still, if you are someone who likes to wait and change steps, it’s up to you.Make the days count.Every day, make progress toward that specific goal.Step 5: Don’t get distracted.There will be many distractions out there.You need to be ready.After you know what to do after writing the first small step, you can start writing it down or at least be aware of distractions on the road. This helped you to be prepared and avoid the distraction easily.My distraction in building a writing system is waking up late.If I'),\n",
       "  Document(id='558365ef-f1fb-4dd9-923a-4bce79f732d9', metadata={'source': 'https://medium.com/@kevinnokiawriting/my-ultimate-2025-blueprint-step-by-step-plan-for-achieving-success-695cc2b2bde9', 'title': 'My Ultimate 2025 Blueprint: Step-by-Step Plan for Achieving Success | by Kevin Nokia | Dec, 2024 | Medium', 'description': 'And it feels quick too, like I didn’t realize that I almost touched 2025 in 3 days (the day I write this article). My 2024 wasn’t my best, but I struggled a lot. I struggle with eliminating my bad…', 'language': 'en'}, page_content='and avoid the distraction easily.My distraction in building a writing system is waking up late.If I set the writing system schedule at 8 am in the morning, it would be pretty hard for me to start the writing system at 9 am if I woke up late. So, my restriction is always waking up before 8 am and being ready for that particular time.Shiny things also need to be avoided.I sometimes get distracted by dropshipping, SMMA, and many other online businesses out there. That’s why I remind myself of the goal I aim for so that I don’t get distracted. All of those businesses are great, but it’s much greater to focus on one thing at a time.It teaches you persistence in not giving up on one thing.ConclusionThis is my ultimate plan to make 2025 another best year of my life.A plan is just a plan. It’s useless without implementation. It’s a waste if I give up.So things you can learn are not giving up. Even if the road seems pretty rocky and hurts to step on, keep going. Be consistent and focus on')],\n",
       " 'answer': 'Based on the provided context, the main lesson Kevin Nokia learned in 2024 that he plans to carry into 2025 is the importance of persistence and consistency. Despite facing difficulties like procrastination and bad habits, he emphasizes the significance of starting now, being consistent, and focusing on the process to achieve goals. He advises against waiting until a later time (like the start of a new year) to make progress and highlights the importance of tackling goals one at a time while minimizing distractions.'}"
      ]
     },
     "execution_count": 25,
     "metadata": {},
     "output_type": "execute_result"
    }
   ],
   "source": [
    "response"
   ]
  },
  {
   "cell_type": "code",
   "execution_count": 26,
   "metadata": {},
   "outputs": [
    {
     "data": {
      "text/plain": [
       "'Based on the provided context, the main lesson Kevin Nokia learned in 2024 that he plans to carry into 2025 is the importance of persistence and consistency. Despite facing difficulties like procrastination and bad habits, he emphasizes the significance of starting now, being consistent, and focusing on the process to achieve goals. He advises against waiting until a later time (like the start of a new year) to make progress and highlights the importance of tackling goals one at a time while minimizing distractions.'"
      ]
     },
     "execution_count": 26,
     "metadata": {},
     "output_type": "execute_result"
    }
   ],
   "source": []
  },
  {
   "cell_type": "code",
   "execution_count": 27,
   "metadata": {},
   "outputs": [
    {
     "data": {
      "text/plain": [
       "str"
      ]
     },
     "execution_count": 27,
     "metadata": {},
     "output_type": "execute_result"
    }
   ],
   "source": [
    "type(response['answer'])"
   ]
  },
  {
   "cell_type": "code",
   "execution_count": null,
   "metadata": {},
   "outputs": [],
   "source": []
  }
 ],
 "metadata": {
  "kernelspec": {
   "display_name": ".venv",
   "language": "python",
   "name": "python3"
  },
  "language_info": {
   "codemirror_mode": {
    "name": "ipython",
    "version": 3
   },
   "file_extension": ".py",
   "mimetype": "text/x-python",
   "name": "python",
   "nbconvert_exporter": "python",
   "pygments_lexer": "ipython3",
   "version": "3.11.9"
  }
 },
 "nbformat": 4,
 "nbformat_minor": 2
}
