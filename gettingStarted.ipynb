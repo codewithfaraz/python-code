{
 "cells": [
  {
   "cell_type": "code",
   "execution_count": 32,
   "metadata": {},
   "outputs": [
    {
     "data": {
      "text/plain": [
       "True"
      ]
     },
     "execution_count": 32,
     "metadata": {},
     "output_type": "execute_result"
    }
   ],
   "source": [
    "import os\n",
    "from dotenv import load_dotenv\n",
    "load_dotenv()"
   ]
  },
  {
   "cell_type": "code",
   "execution_count": 33,
   "metadata": {},
   "outputs": [],
   "source": [
    "os.environ[\"OPENAI_API_KEY\"] = os.getenv(\"OPENAI_API_KEY\")\n",
    "os.environ[\"LANGCHAIN_API_KEY\"] = os.getenv(\"LANGCHAIN_API_KEY\")\n",
    "os.environ[\"LANGCHAIN_TRACING_V2\"] = \"true\"\n",
    "os.environ[\"LANGCHAIN_PROJECT_NAME\"] = os.getenv(\"LANGCHAIN_PROJECT_NAME\")"
   ]
  },
  {
   "cell_type": "code",
   "execution_count": 34,
   "metadata": {},
   "outputs": [
    {
     "name": "stdout",
     "output_type": "stream",
     "text": [
      "client=<openai.resources.chat.completions.Completions object at 0x0000025E80B33C50> async_client=<openai.resources.chat.completions.AsyncCompletions object at 0x0000025E80B64990> root_client=<openai.OpenAI object at 0x0000025EFE60EF50> root_async_client=<openai.AsyncOpenAI object at 0x0000025E80B33B90> model_name='gpt-4o' model_kwargs={} openai_api_key=SecretStr('**********')\n"
     ]
    }
   ],
   "source": [
    "from langchain_openai import ChatOpenAI\n",
    "llm=ChatOpenAI(model=\"gpt-4o\")\n",
    "print(llm)"
   ]
  },
  {
   "cell_type": "code",
   "execution_count": 35,
   "metadata": {},
   "outputs": [],
   "source": [
    "result = llm.invoke(\"How are you?\")"
   ]
  },
  {
   "cell_type": "code",
   "execution_count": 36,
   "metadata": {},
   "outputs": [
    {
     "data": {
      "text/plain": [
       "AIMessage(content=\"Thank you for asking! I'm a computer program, so I don't have feelings, but I'm here to help you. How can I assist you today?\", additional_kwargs={'refusal': None}, response_metadata={'token_usage': {'completion_tokens': 31, 'prompt_tokens': 11, 'total_tokens': 42, 'completion_tokens_details': {'accepted_prediction_tokens': 0, 'audio_tokens': 0, 'reasoning_tokens': 0, 'rejected_prediction_tokens': 0}, 'prompt_tokens_details': {'audio_tokens': 0, 'cached_tokens': 0}}, 'model_name': 'gpt-4o-2024-08-06', 'system_fingerprint': 'fp_b7d65f1a5b', 'finish_reason': 'stop', 'logprobs': None}, id='run-d5d567c8-2411-4f91-bcb3-18c3ebe2b74d-0', usage_metadata={'input_tokens': 11, 'output_tokens': 31, 'total_tokens': 42, 'input_token_details': {'audio': 0, 'cache_read': 0}, 'output_token_details': {'audio': 0, 'reasoning': 0}})"
      ]
     },
     "execution_count": 36,
     "metadata": {},
     "output_type": "execute_result"
    }
   ],
   "source": [
    "result"
   ]
  },
  {
   "cell_type": "code",
   "execution_count": 37,
   "metadata": {},
   "outputs": [],
   "source": [
    "#chatprompt template\n",
    "from langchain_core.prompts import ChatPromptTemplate"
   ]
  },
  {
   "cell_type": "code",
   "execution_count": 38,
   "metadata": {},
   "outputs": [],
   "source": [
    "prompt = ChatPromptTemplate.from_messages(\n",
    "    [\n",
    "        ('system',\"you are an ai engineer, provide answer to the questions\"),\n",
    "        ('user',\"{input}\")\n",
    "    ]\n",
    ")"
   ]
  },
  {
   "cell_type": "code",
   "execution_count": 39,
   "metadata": {},
   "outputs": [
    {
     "data": {
      "text/plain": [
       "ChatPromptTemplate(input_variables=['input'], input_types={}, partial_variables={}, messages=[SystemMessagePromptTemplate(prompt=PromptTemplate(input_variables=[], input_types={}, partial_variables={}, template='you are an ai engineer, provide answer to the questions'), additional_kwargs={}), HumanMessagePromptTemplate(prompt=PromptTemplate(input_variables=['input'], input_types={}, partial_variables={}, template='{input}'), additional_kwargs={})])\n",
       "| ChatOpenAI(client=<openai.resources.chat.completions.Completions object at 0x0000025E80B33C50>, async_client=<openai.resources.chat.completions.AsyncCompletions object at 0x0000025E80B64990>, root_client=<openai.OpenAI object at 0x0000025EFE60EF50>, root_async_client=<openai.AsyncOpenAI object at 0x0000025E80B33B90>, model_name='gpt-4o', model_kwargs={}, openai_api_key=SecretStr('**********'))"
      ]
     },
     "execution_count": 39,
     "metadata": {},
     "output_type": "execute_result"
    }
   ],
   "source": [
    "chain = prompt|llm\n",
    "chain"
   ]
  },
  {
   "cell_type": "code",
   "execution_count": 40,
   "metadata": {},
   "outputs": [],
   "source": [
    "result = chain.invoke({\"input\":\"what is generative ai\"})"
   ]
  },
  {
   "cell_type": "code",
   "execution_count": 41,
   "metadata": {},
   "outputs": [
    {
     "data": {
      "text/plain": [
       "AIMessage(content='Generative AI refers to a subset of artificial intelligence technologies designed to generate new content, such as text, images, audio, or even data, based on the input it receives. Unlike traditional AI, which mainly focuses on analyzing and understanding existing data, generative AI models produce creative outputs that mimic the complexity and variance found in real-world data. Some common techniques and models used in generative AI include:\\n\\n1. **Generative Adversarial Networks (GANs):** A class of neural networks wherein two models, a generator and a discriminator, are trained simultaneously. The generator creates new data instances, while the discriminator evaluates them. The goal is for the generator to produce increasingly realistic outputs.\\n\\n2. **Variational Autoencoders (VAEs):** A generative model that encodes input data into a compressed latent space and then decodes it to generate new output, with the aim of exploring the potential variations in the data.\\n\\n3. **Transformer-based Models:** Models like GPT (Generative Pre-trained Transformer) are highly effective in generating human-like text. They use a transformer architecture to predict and generate sequences, making them well-suited for language generation tasks.\\n\\n4. **Diffusion Models:** These are used mainly for generating images by modeling the data distribution and reversing a diffusion process to produce new data points.\\n\\n5. **Recurrent Neural Networks (RNNs) and Long Short-Term Memory Networks (LSTMs):** These are commonly used for sequence generation tasks, such as text and music composition, despite being less popular than transformer-based architectures for tasks requiring human-like language generation.\\n\\nGenerative AI has a wide range of applications, such as creating realistic images for video games and films, generating written content, producing music, designing drugs in pharmaceutics, or even assisting with coding and software development. However, it also raises ethical concerns, especially regarding authenticity, copyright, and the potential for misuse in creating misleading or harmful content.', additional_kwargs={'refusal': None}, response_metadata={'token_usage': {'completion_tokens': 391, 'prompt_tokens': 27, 'total_tokens': 418, 'completion_tokens_details': {'accepted_prediction_tokens': 0, 'audio_tokens': 0, 'reasoning_tokens': 0, 'rejected_prediction_tokens': 0}, 'prompt_tokens_details': {'audio_tokens': 0, 'cached_tokens': 0}}, 'model_name': 'gpt-4o-2024-08-06', 'system_fingerprint': 'fp_b7d65f1a5b', 'finish_reason': 'stop', 'logprobs': None}, id='run-5e2bee8e-e6ba-48de-a681-be78e47585e3-0', usage_metadata={'input_tokens': 27, 'output_tokens': 391, 'total_tokens': 418, 'input_token_details': {'audio': 0, 'cache_read': 0}, 'output_token_details': {'audio': 0, 'reasoning': 0}})"
      ]
     },
     "execution_count": 41,
     "metadata": {},
     "output_type": "execute_result"
    }
   ],
   "source": [
    "result"
   ]
  },
  {
   "cell_type": "code",
   "execution_count": 42,
   "metadata": {},
   "outputs": [],
   "source": [
    "#stroutput parser\n",
    "from langchain_core.output_parsers import StrOutputParser\n",
    "string_output_pasrer =StrOutputParser()"
   ]
  },
  {
   "cell_type": "code",
   "execution_count": 43,
   "metadata": {},
   "outputs": [],
   "source": [
    "chain = prompt|llm|string_output_pasrer"
   ]
  },
  {
   "cell_type": "code",
   "execution_count": 44,
   "metadata": {},
   "outputs": [],
   "source": [
    "result = chain.invoke({\"input\":\"what is agentic ai\"})"
   ]
  },
  {
   "cell_type": "code",
   "execution_count": 45,
   "metadata": {},
   "outputs": [
    {
     "data": {
      "text/plain": [
       "str"
      ]
     },
     "execution_count": 45,
     "metadata": {},
     "output_type": "execute_result"
    }
   ],
   "source": [
    "type(result)"
   ]
  },
  {
   "cell_type": "code",
   "execution_count": 46,
   "metadata": {},
   "outputs": [
    {
     "data": {
      "text/plain": [
       "'Agentic AI refers to artificial intelligence systems that can act as autonomous agents, making decisions and taking actions to achieve specific goals without requiring direct human intervention. These systems are designed to possess qualities akin to \"agency,\" meaning they have the ability to perceive their environment, interpret data, and execute actions based on their understanding and objectives.\\n\\nKey characteristics of agentic AI include:\\n\\n1. **Autonomy**: They can operate independently to perform tasks, adapt to changes, and make decisions based on pre-defined goals or learning.\\n\\n2. **Proactivity**: They can anticipate future needs and act accordingly, rather than merely responding to explicit instructions.\\n\\n3. **Learning Capability**: Many agentic AI systems incorporate machine learning algorithms that allow them to improve over time based on experience and data inputs.\\n\\n4. **Interaction**: They can communicate with other agents, systems, or humans, collaborating to achieve common objectives.\\n\\n5. **Goal-Oriented Behavior**: Their behavior is driven by defined objectives, whether set by humans or developed through learning processes.\\n\\nAgentic AI systems are used in various applications, such as virtual personal assistants, autonomous vehicles, and industrial automation, where decision-making without constant human oversight is beneficial.'"
      ]
     },
     "execution_count": 46,
     "metadata": {},
     "output_type": "execute_result"
    }
   ],
   "source": [
    "result"
   ]
  },
  {
   "cell_type": "code",
   "execution_count": null,
   "metadata": {},
   "outputs": [],
   "source": []
  }
 ],
 "metadata": {
  "kernelspec": {
   "display_name": ".venv",
   "language": "python",
   "name": "python3"
  },
  "language_info": {
   "codemirror_mode": {
    "name": "ipython",
    "version": 3
   },
   "file_extension": ".py",
   "mimetype": "text/x-python",
   "name": "python",
   "nbconvert_exporter": "python",
   "pygments_lexer": "ipython3",
   "version": "3.11.9"
  }
 },
 "nbformat": 4,
 "nbformat_minor": 2
}
