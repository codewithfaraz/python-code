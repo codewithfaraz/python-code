{
 "cells": [
  {
   "cell_type": "code",
   "execution_count": 1,
   "metadata": {},
   "outputs": [
    {
     "data": {
      "text/plain": [
       "4"
      ]
     },
     "execution_count": 1,
     "metadata": {},
     "output_type": "execute_result"
    }
   ],
   "source": [
    "2+2"
   ]
  },
  {
   "cell_type": "code",
   "execution_count": 9,
   "metadata": {},
   "outputs": [],
   "source": [
    "from langchain_community.document_loaders import TextLoader\n",
    "from langchain_text_splitters import RecursiveCharacterTextSplitter\n",
    "from langchain_community.embeddings import OllamaEmbeddings\n",
    "from langchain_community.vectorstores import Chroma"
   ]
  },
  {
   "cell_type": "code",
   "execution_count": 11,
   "metadata": {},
   "outputs": [
    {
     "data": {
      "text/plain": [
       "[Document(metadata={'source': 'text.txt'}, page_content='Lorem Ipsum is simply dummy text of the printing'),\n",
       " Document(metadata={'source': 'text.txt'}, page_content='and typesetting industry. Lorem Ipsum has been'),\n",
       " Document(metadata={'source': 'text.txt'}, page_content=\"the industry's standard dummy text ever since the\"),\n",
       " Document(metadata={'source': 'text.txt'}, page_content='1500s, when an unknown printer took a galley of'),\n",
       " Document(metadata={'source': 'text.txt'}, page_content='type and scrambled it to make a type specimen'),\n",
       " Document(metadata={'source': 'text.txt'}, page_content='book. It has survived not only five centuries,'),\n",
       " Document(metadata={'source': 'text.txt'}, page_content='but also the leap into electronic typesetting,'),\n",
       " Document(metadata={'source': 'text.txt'}, page_content='remaining essentially unchanged. It was'),\n",
       " Document(metadata={'source': 'text.txt'}, page_content='popularised in the 1960s with the release of'),\n",
       " Document(metadata={'source': 'text.txt'}, page_content='Letraset sheets containing Lorem Ipsum passages,'),\n",
       " Document(metadata={'source': 'text.txt'}, page_content='and more recently with desktop publishing'),\n",
       " Document(metadata={'source': 'text.txt'}, page_content='software like Aldus PageMaker including versions'),\n",
       " Document(metadata={'source': 'text.txt'}, page_content='of Lorem Ipsum.')]"
      ]
     },
     "execution_count": 11,
     "metadata": {},
     "output_type": "execute_result"
    }
   ],
   "source": [
    "loader = TextLoader(\"text.txt\")\n",
    "documents = loader.load()\n",
    "splitter = RecursiveCharacterTextSplitter(chunk_size=50,chunk_overlap=0)\n",
    "docs = splitter.split_documents(documents)\n",
    "docs"
   ]
  },
  {
   "cell_type": "code",
   "execution_count": 12,
   "metadata": {},
   "outputs": [
    {
     "name": "stderr",
     "output_type": "stream",
     "text": [
      "C:\\Users\\faraz\\AppData\\Local\\Temp\\ipykernel_11704\\2646713074.py:1: LangChainDeprecationWarning: The class `OllamaEmbeddings` was deprecated in LangChain 0.3.1 and will be removed in 1.0.0. An updated version of the class exists in the :class:`~langchain-ollama package and should be used instead. To use it run `pip install -U :class:`~langchain-ollama` and import as `from :class:`~langchain_ollama import OllamaEmbeddings``.\n",
      "  embedder = OllamaEmbeddings(model=\"gemma2:2b\")\n"
     ]
    }
   ],
   "source": [
    "embedder = OllamaEmbeddings(model=\"gemma2:2b\")"
   ]
  },
  {
   "cell_type": "code",
   "execution_count": 16,
   "metadata": {},
   "outputs": [],
   "source": [
    "db = Chroma.from_documents(docs, embedder,persist_directory=\"chromadb\")"
   ]
  },
  {
   "cell_type": "code",
   "execution_count": 17,
   "metadata": {},
   "outputs": [],
   "source": [
    "searched_results = db.similarity_search(\"containing Lorem Ipsum passages\")"
   ]
  },
  {
   "cell_type": "code",
   "execution_count": 18,
   "metadata": {},
   "outputs": [
    {
     "data": {
      "text/plain": [
       "[Document(metadata={'source': 'text.txt'}, page_content='software like Aldus PageMaker including versions'),\n",
       " Document(metadata={'source': 'text.txt'}, page_content='type and scrambled it to make a type specimen'),\n",
       " Document(metadata={'source': 'text.txt'}, page_content='and more recently with desktop publishing'),\n",
       " Document(metadata={'source': 'text.txt'}, page_content='remaining essentially unchanged. It was')]"
      ]
     },
     "execution_count": 18,
     "metadata": {},
     "output_type": "execute_result"
    }
   ],
   "source": [
    "searched_results"
   ]
  },
  {
   "cell_type": "code",
   "execution_count": 22,
   "metadata": {},
   "outputs": [],
   "source": [
    "db2 = Chroma(persist_directory=\"./chromadb\",embedding_function=embedder)"
   ]
  },
  {
   "cell_type": "code",
   "execution_count": 23,
   "metadata": {},
   "outputs": [],
   "source": [
    "data = db.similarity_search(\"containing Lorem Ipsum passages\")"
   ]
  },
  {
   "cell_type": "code",
   "execution_count": 24,
   "metadata": {},
   "outputs": [
    {
     "data": {
      "text/plain": [
       "[Document(metadata={'source': 'text.txt'}, page_content='software like Aldus PageMaker including versions'),\n",
       " Document(metadata={'source': 'text.txt'}, page_content='type and scrambled it to make a type specimen'),\n",
       " Document(metadata={'source': 'text.txt'}, page_content='and more recently with desktop publishing'),\n",
       " Document(metadata={'source': 'text.txt'}, page_content='remaining essentially unchanged. It was')]"
      ]
     },
     "execution_count": 24,
     "metadata": {},
     "output_type": "execute_result"
    }
   ],
   "source": [
    "data"
   ]
  },
  {
   "cell_type": "code",
   "execution_count": 25,
   "metadata": {},
   "outputs": [],
   "source": [
    "data = db2.similarity_search_with_score(\"containing Lorem Ipsum passages\")"
   ]
  },
  {
   "cell_type": "code",
   "execution_count": 26,
   "metadata": {},
   "outputs": [
    {
     "data": {
      "text/plain": [
       "[(Document(metadata={'source': 'text.txt'}, page_content='software like Aldus PageMaker including versions'),\n",
       "  5366.505456801549),\n",
       " (Document(metadata={'source': 'text.txt'}, page_content='type and scrambled it to make a type specimen'),\n",
       "  7188.178345876074),\n",
       " (Document(metadata={'source': 'text.txt'}, page_content='and more recently with desktop publishing'),\n",
       "  7294.264264716825),\n",
       " (Document(metadata={'source': 'text.txt'}, page_content='remaining essentially unchanged. It was'),\n",
       "  7350.03700874805)]"
      ]
     },
     "execution_count": 26,
     "metadata": {},
     "output_type": "execute_result"
    }
   ],
   "source": [
    "data"
   ]
  },
  {
   "cell_type": "code",
   "execution_count": 27,
   "metadata": {},
   "outputs": [],
   "source": [
    "retriever = db2.as_retriever()"
   ]
  },
  {
   "cell_type": "code",
   "execution_count": 28,
   "metadata": {},
   "outputs": [],
   "source": [
    "data = retriever.invoke(\"containing Lorem Ipsum passages\")"
   ]
  },
  {
   "cell_type": "code",
   "execution_count": 29,
   "metadata": {},
   "outputs": [
    {
     "data": {
      "text/plain": [
       "[Document(metadata={'source': 'text.txt'}, page_content='software like Aldus PageMaker including versions'),\n",
       " Document(metadata={'source': 'text.txt'}, page_content='type and scrambled it to make a type specimen'),\n",
       " Document(metadata={'source': 'text.txt'}, page_content='and more recently with desktop publishing'),\n",
       " Document(metadata={'source': 'text.txt'}, page_content='remaining essentially unchanged. It was')]"
      ]
     },
     "execution_count": 29,
     "metadata": {},
     "output_type": "execute_result"
    }
   ],
   "source": [
    "data"
   ]
  },
  {
   "cell_type": "code",
   "execution_count": null,
   "metadata": {},
   "outputs": [],
   "source": []
  }
 ],
 "metadata": {
  "kernelspec": {
   "display_name": "venv",
   "language": "python",
   "name": "python3"
  },
  "language_info": {
   "codemirror_mode": {
    "name": "ipython",
    "version": 3
   },
   "file_extension": ".py",
   "mimetype": "text/x-python",
   "name": "python",
   "nbconvert_exporter": "python",
   "pygments_lexer": "ipython3",
   "version": "3.10.0"
  }
 },
 "nbformat": 4,
 "nbformat_minor": 2
}
